{
  "nbformat": 4,
  "nbformat_minor": 0,
  "metadata": {
    "colab": {
      "provenance": []
    },
    "kernelspec": {
      "name": "python3",
      "display_name": "Python 3"
    },
    "language_info": {
      "name": "python"
    }
  },
  "cells": [
    {
      "cell_type": "markdown",
      "source": [
        "#Python Basics\n",
        " 1.  What is Python, and why is it popular ?\n",
        "   - Python is a high level interpreted programming language known for its easy to use nature and readability where the code ius executed line by line and easily understandable.\n",
        "   It is popular due to its simple synstax , huge libraries and adapatability to different fields like web development , data analytics and machine learning.\n",
        " 2. What is an interpreter in Python ?\n",
        "   - In python an interpreter is a program that reads anbd executes the code line by line without the need for compilation of data into a machine code. It translates each high level statment into a low level instruction for the computer to understand and run.\n",
        " 3. What are pre-defined keywords in Python ?\n",
        "    - Keywords are a set of reserved keys that can not be used as an identifier because they have predefined meanings guiding the interpretor on how to execute the code.\n",
        "    for  example : if, elif, else\n",
        " 4. Can keywords be used as variable names ?\n",
        "     - No keywords hold a predefined meaning and cannot be used as variable names as they are required to interpret the code by the syntax.\n",
        " 5. What is mutability in Python ?\n",
        "    - mutbalitiy refers to the ability of an object to be changed after it is created. Mutable objects allow modifications to their internal state or data without creating a new object. This means that if you modify a mutable object, any references to that object will reflect those changes.\n",
        " 6.  Why are lists mutable, but tuples are immutable ?\n",
        "     - Tuples and lists are the same in every way except two: tuples use parentheses instead of square brackets, and the items in tuples cannot be modified (but the items in lists can be modified). We often call lists mutable (meaning they can be changed) and tuples immutable (meaning they cannot be changed)\n",
        " 7. What is the difference between “==” and “is” operators in Python ?\n",
        "      - \"==\" and \"is\" operators i python serve two different functions where in == represents the equality between two objects where as 'is' operator defines two object in the same memory space\n",
        " 8. What are logical operators in Python ?\n",
        "    -  Logical operators in python are used with conditional statements and operate on boolean valus i.e. 'True' and 'False. There are three such operators - 'and', 'or', 'not'\n",
        " 9. What is type casting in Python ?\n",
        "    - tpye casting refers to the process of changing the data type of a variable from  one type to another. for example - int() converts a data into integer but the same variable put into str() would be converted into a string type variable.\n",
        " 10.  What is the difference between implicit and explicit type casting ?\n",
        "    - implicit type casting is a type of casdting where in the the variable is automatically converted and complied into a different variable and explicit typecasting is user defined and required a user to define the variable's type by using a cast operator.\n",
        "    e.g - implicit type casting occurs when the interpreter encounters mmixed data types like summing up of and integer and float data type\n",
        " 11. What is the purpose of conditional statements in Python ?\n",
        "     - Conditional statements are used in python to control the flow of execution in program based on specific condtions, which allows the program to choose different block of codes to execute from if any one condition is not satisfied.\n",
        " 12.  How does the elif statement work?\n",
        "     - Elif statement in python allows us to check the conditional statements sequentially in a code of block. If the initial 'if' statement isn't true then the code of block with 'elfi' statement will keep executing until the desired output is achieved.\n",
        " 13.  What is the difference between for and while loops ?\n",
        "     - \"For\" loop is used in python when you know the specific number of time a code has to be executed to meet the desired results to iterate each element of sequence , \"while\" loop on the other hand is used when you want to repeat a block of code and continue the loop sequentially until the desired condition is met.\n",
        " 14. Describe a scenario where a while loop is more suitable than a for loop?\n",
        "\n",
        "    - A while loop is more suitable than a for loop when the number of iterations is not known in advance and the loop needs to continue until a specific condition is met, which may depend on external factors or user input.\n",
        "    A specific example would be a block of code where in a user has to enter their  password which has to correct till then the code will execute until the user does not provide correctr password.\n",
        "    \n",
        "\n",
        "\n"
      ],
      "metadata": {
        "id": "N39xGibq1bWB"
      }
    },
    {
      "cell_type": "code",
      "source": [
        "# 1. Write a Python program to print \"Hello, World!?\n",
        "print (\"Hello World\")"
      ],
      "metadata": {
        "id": "bzsvPZS2BNdy"
      },
      "execution_count": null,
      "outputs": []
    },
    {
      "cell_type": "code",
      "source": [
        "# 2. Write a Python program that displays your name and age\n",
        "name = \"Aman Kumar Thakur\"\n",
        "age = \"24\"\n",
        "\n",
        "print (\"My name is\", name )\n",
        "print (\"I am\" , age, \"yrs old\")"
      ],
      "metadata": {
        "id": "JpFWPoKVBWuj"
      },
      "execution_count": null,
      "outputs": []
    },
    {
      "cell_type": "code",
      "source": [
        "#3. 8 Write code to print all the pre-defined keywords in Python using the keyword library.\n",
        "import keyword\n",
        "\n",
        "keywords =  keyword.kwlist\n",
        "print (\"The keywords are\" , keywords)"
      ],
      "metadata": {
        "id": "zsO8jZJQCMYD"
      },
      "execution_count": null,
      "outputs": []
    },
    {
      "cell_type": "code",
      "source": [
        "# 4. Write a program that checks if a given word is a Python keyword.\n",
        "import keyword\n",
        "\n",
        "word = input(\"Enter a word: \")\n",
        "\n",
        "if keyword.iskeyword(word):\n",
        "    print(f\"'{word}' is a Python keyword.\")\n",
        "else:\n",
        "    print(f\"'{word}' is NOT a Python keyword.\")\n"
      ],
      "metadata": {
        "id": "-i8I8R5eCaI7"
      },
      "execution_count": null,
      "outputs": []
    },
    {
      "cell_type": "code",
      "source": [
        "# 5.  Create a list and tuple in Python, and demonstrate how attempting to change an element works differently for each.\n",
        "my_list = [10, 20, 30 ,40]\n",
        "my_list[1] = 50\n",
        "print(my_list)\n",
        "\n",
        "#modifying a tuple\n",
        "my_tuple = (10, 20, 30, 40)\n",
        "my_tuple[1] = 50  #tuples are immutable objects , attempting to change themn would cause the error to occur in a code\n",
        "print(my_tuple)"
      ],
      "metadata": {
        "id": "EBlmWl8kFyIQ"
      },
      "execution_count": null,
      "outputs": []
    },
    {
      "cell_type": "code",
      "source": [
        "# 6. Write a function to demonstrate the behavior of mutable and immutable arguments.\n",
        "\n",
        "def modify_arguments(arg1, arg2):\n",
        "  print(\"Inside the function: \")\n",
        "  print(f\"  arg1 before modification: {arg1}\")\n",
        "  print(f\"  arg2 before modification: {arg2}\")\n",
        "\n",
        "  arg1 += 5\n",
        "  arg2.append(6)\n",
        "\n",
        "  print(f\"  arg1 after modification: {arg1}\")\n",
        "  print(f\"  arg2 after modification: {arg2}\")\n",
        "immutable_arg =7\n",
        "mutable_arg = [1, 2, 3,4,5]\n",
        "\n",
        "print(\"Before function call:\")\n",
        "print(f\"  immutable_arg: {immutable_arg}\")\n",
        "print(f\"  mutable_arg: {mutable_arg}\")\n",
        "\n",
        "modify_arguments(immutable_arg, mutable_arg)\n",
        "\n",
        "print(\"After function call:\")\n",
        "print(f\"  immutable_arg: {immutable_arg}\")\n",
        "print(f\"  mutable_arg: {mutable_arg}\")"
      ],
      "metadata": {
        "id": "3SDJnhygGMFR"
      },
      "execution_count": null,
      "outputs": []
    },
    {
      "cell_type": "code",
      "source": [
        "# 7.  Write a program that performs basic arithmetic operations on two user-input numbers.\n",
        "def main():\n",
        "  print(\"Basic Arithmetic Operations\")\n",
        "  num1 = float(input(\"Enter the first number: \"))\n",
        "  num2 = float(input(\"Enter the second number: \"))\n",
        "\n",
        "  print(\"\\nResult:\")\n",
        "  print(f\"{num1} + {num2} = {num1 + num2}\")\n",
        "  print(f\"{num1} - {num2} = {num1 - num2}\")\n",
        "  print(f\"{num1} * {num2} = {num1 * num2}\")\n",
        "  print(f\"{num1} / {num2} = {num1 / num2}\")\n",
        "\n",
        "if __name__ == \"__main__\":\n",
        "  main()"
      ],
      "metadata": {
        "id": "tg7A8fixUajc"
      },
      "execution_count": null,
      "outputs": []
    },
    {
      "cell_type": "code",
      "source": [
        "# 8. Write a program to demonstrate the use of logical operators.\n",
        "a = 10\n",
        "b = 15\n",
        "print (\"a = \", a)\n",
        "print (\"b =\" , b)\n",
        "print(\"a > 0 and b > 0:\", a > 0 and b > 0)\n",
        "print(\"a > 0 and b < 0:\", a > 0 or b > 0)\n",
        "print(\"not(a > 0):\", not(a > 0))\n",
        "\n"
      ],
      "metadata": {
        "id": "qPXe8HuyZBwj"
      },
      "execution_count": null,
      "outputs": []
    },
    {
      "cell_type": "code",
      "source": [
        "# 9. Write a Python program to convert user input from string to integer, float, and boolean types.\n",
        "\n",
        "Input_value = input(\"Enter a value:\")\n",
        "try :\n",
        "  int_value = int(Input_value)\n",
        "except ValueError :\n",
        "  print(\"Invalid input. Please enter a valid integer.\")\n",
        "try :\n",
        "  float_value = float(Input_value)\n",
        "except ValueError:\n",
        "    print(\"Invalid input. Please enter a valid float.\")\n",
        "boolean_value = bool(Input_value)\n",
        "print(\"Integer value:\", int_value)\n",
        "print(\"Float value:\", float_value)\n",
        "print(\"Boolean value:\", boolean_value)\n"
      ],
      "metadata": {
        "id": "C_v956AkaKr0"
      },
      "execution_count": null,
      "outputs": []
    },
    {
      "cell_type": "code",
      "source": [
        "# 10. Write code to demonstrate type casting with list elements.\n",
        "str_list = [\"5\",\"10\",\"15\",\"20\",\"25\"]\n",
        "int_list = [ int(x) for x in str_list]\n",
        "print(\"String list:\", str_list)\n",
        "print(\"Integer list:\", int_list)\n",
        "float_list = [float(x) for x in str_list]\n",
        "print(\"Float list:\", float_list)\n",
        "bool_list = [bool(x) for x in str_list]\n",
        "print(\"Boolean list:\", bool_list)"
      ],
      "metadata": {
        "id": "qXa54bT4j3IS"
      },
      "execution_count": null,
      "outputs": []
    },
    {
      "cell_type": "code",
      "source": [
        "# 10. Write a program that checks if a number is positive, negative, or zero.\n",
        "num = float(input(\"Enter a number: \"))\n",
        "if num > 0:\n",
        "    print (\"Number is positive\")\n",
        "if num == 0 :\n",
        "    print(\"Number is zero\")\n",
        "if num < 0 :\n",
        "    print(\"Number is negative\")"
      ],
      "metadata": {
        "id": "tGgdE9_Vni56"
      },
      "execution_count": null,
      "outputs": []
    },
    {
      "cell_type": "code",
      "source": [
        "# 13. Write a for loop to print numbers from 1 to 10.\n",
        "for i in range(1,11):\n",
        "  print(i)\n",
        "\n",
        "\n"
      ],
      "metadata": {
        "id": "oLoEZ7_g5Bnb"
      },
      "execution_count": null,
      "outputs": []
    },
    {
      "cell_type": "code",
      "source": [
        "# 14. Write a program to reverse a string using a while loop\n",
        "Org_string = input(\"Enter a string: \")\n",
        "reversed_string = \"\"\n",
        "index = len(Org_string) - 1\n",
        "while index >= 0:\n",
        "    reversed_string += Org_string[index]\n",
        "    index -= 1\n",
        "print(\"Reversed string:\", reversed_string)\n"
      ],
      "metadata": {
        "id": "AGzf4ppgHknI"
      },
      "execution_count": null,
      "outputs": []
    },
    {
      "cell_type": "code",
      "source": [
        "# 15.  Write a Python program to calculate the factorial of a number provided by the user using a while loop.\n",
        "num = int(input(\"Enter a number: \"))\n",
        "factorial = 1\n",
        "current_number = 1\n",
        "while current_number <= num:\n",
        "    factorial *= current_number\n",
        "    current_number += 1\n",
        "print(\"Factorial of\", num, \"is\", factorial)"
      ],
      "metadata": {
        "id": "TXsgnAzAIxWx"
      },
      "execution_count": null,
      "outputs": []
    },
    {
      "cell_type": "code",
      "source": [],
      "metadata": {
        "id": "bLi3H7GEJKpv"
      },
      "execution_count": null,
      "outputs": []
    }
  ]
}